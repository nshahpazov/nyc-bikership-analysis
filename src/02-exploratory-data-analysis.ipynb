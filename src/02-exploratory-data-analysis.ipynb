{
 "cells": [
  {
   "cell_type": "markdown",
   "source": [
    "## **Bikes Exploratory Data Analysis**\n",
    "\n",
    "In this step we are going to go through various visualization techniques in the hope of finding insights on the bike ridership dynamics in the city of New York. Some of the things we are going to explore are\n",
    "\n",
    "* Who are the customers (age, sex, usertype) and in what hours what customers do we have?\n",
    "* Bikes are paid on duration, so what insights and patterns might we get on duration?\n",
    "* Where is mostly women, where it's mostly men, where different ages and different customer types\n",
    "* Where they bike more in counts and in duration\n",
    "* Impact of weather on the ridership of taxis, bikes, etc\n",
    "* Different types of customers in different hours\n",
    "* Where the trips start and where the trips end\n",
    "* Duration of riders for different days, genders, ages, user types\n",
    "* Birth\\age plot with different types of users"
   ],
   "metadata": {}
  },
  {
   "cell_type": "code",
   "execution_count": 1,
   "source": [
    "# load required packages\n",
    "import pandas as pd\n",
    "import numpy as np\n",
    "import plotnine.options as ggplot_options\n",
    "\n",
    "# visualization libraries and helper utilities\n",
    "from plotnine import (ggplot, aes, geom_bar, xlab, ylab, theme_minimal, ggtitle,\n",
    "                      geom_boxplot, facet_wrap, scale_fill_manual, coord_flip)\n",
    "from utilities.plot_utilities import plot_average_rides_count_per_week\n",
    "\n",
    "ggplot_options.figure_size = (6, 3)"
   ],
   "outputs": [],
   "metadata": {}
  },
  {
   "cell_type": "markdown",
   "source": [
    "#### **Loading our data**"
   ],
   "metadata": {}
  },
  {
   "cell_type": "code",
   "execution_count": null,
   "source": [
    "DAY_NAMES = [\"Monday\", \"Tuesday\", \"Wednesday\", \"Thursday\", \"Friday\", \"Saturday\", \"Sunday\"]\n",
    "MAX_AGE = 90\n",
    "# load our dataset\n",
    "bikes_df = pd.read_csv(\"../data/processed/bikes_2016_02.csv\")\n",
    "\n",
    "# cast to correct types\n",
    "bikes_df['starttime'] = pd.to_datetime(bikes_df['starttime'])\n",
    "bikes_df['stoptime'] = pd.to_datetime(bikes_df['stoptime'])\n",
    "\n",
    "# attach a start day name column\n",
    "bikes_df['day_name'] = pd.Categorical(bikes_df['starttime'].dt.day_name(), categories=DAY_NAMES)\n",
    "\n",
    "# attach whether its weekday or weekend\n",
    "bikes_df['day_type'] = np.where(bikes_df['starttime'].dt.weekday < 5, 'Weekday', 'Weekend').astype(pd.Categorical)"
   ],
   "outputs": [],
   "metadata": {}
  },
  {
   "cell_type": "markdown",
   "source": [
    "## **Who are our users**?\n",
    "\n",
    "As a first step, it might be good answering the questions who are our customers.  What are the different types of customers? Of what age and gender are they? How long do they ride and how many do they ride, in what days and hours?"
   ],
   "metadata": {}
  },
  {
   "cell_type": "code",
   "execution_count": null,
   "source": [
    "(bikes_df['usertype'].value_counts(normalize=True)\n",
    " .reset_index()\n",
    " .rename(columns={'index': 'usertype', 'usertype': 'percentage'}))"
   ],
   "outputs": [],
   "metadata": {}
  },
  {
   "cell_type": "code",
   "execution_count": null,
   "source": [
    "\n",
    "ggplot_options.figure_size = (6, 4)\n",
    "\n",
    "usertype_list = bikes_df['usertype'].value_counts().index.tolist()\n",
    "usertype_cat = pd.Categorical(bikes_df['usertype'], categories=usertype_list)\n",
    "\n",
    "bikes_df = bikes_df.assign(usertype = usertype_cat)\n",
    "\n",
    "\n",
    "(ggplot(bikes_df) +\n",
    "    aes(x='usertype', fill='usertype') +\n",
    "    geom_bar(stat='count', alpha=0.8, width=0.5) +\n",
    "    xlab(\"User Type\") +\n",
    "    ylab(\"Number of riders\") +\n",
    "    ggtitle(\"Percentage of different user types\") +\n",
    "    scale_fill_manual(values=[\"#2a9d8f\", \"#e9c46a\"])\n",
    ")"
   ],
   "outputs": [],
   "metadata": {}
  },
  {
   "cell_type": "markdown",
   "source": [
    "From the chart above, we see that most of the bikers are annual subscribers (95%), while only 5% of the users are customers."
   ],
   "metadata": {}
  },
  {
   "cell_type": "code",
   "execution_count": null,
   "source": [
    "ggplot_options.figure_size = (6, 4)\n",
    "\n",
    "(ggplot(bikes_df) +\n",
    "    aes(x='gender', fill='usertype') +\n",
    "    geom_bar(stat='count', alpha=0.8) +\n",
    "    xlab(\"Gender\") +\n",
    "    ylab(\"Number of riders\") +\n",
    "    ggtitle(\"Riderships count by different gender\") +\n",
    "    scale_fill_manual(values=[\"#2a9d8f\", \"#e9c46a\"])\n",
    ")"
   ],
   "outputs": [],
   "metadata": {}
  },
  {
   "cell_type": "markdown",
   "source": [
    "We can see that most of the riders are actually male, and the ones of unknown gender are mostly customers. As we saw in the Initial Data Analysis, the latter might be due to the gender data not being collected for customers.\n",
    "\n",
    "What about the age of our bikers?"
   ],
   "metadata": {}
  },
  {
   "cell_type": "code",
   "execution_count": null,
   "source": [
    "ggplot_options.figure_size = (12, 4)\n",
    "\n",
    "AGE_BINS = np.insert(np.arange(start=20, stop=70, step=5), 0, 0, axis=0)\n",
    "\n",
    "(bikes_df\n",
    " .assign(age_range = pd.cut(bikes_df['age'], bins=AGE_BINS).astype(str))\n",
    " .pipe(ggplot) +\n",
    "    aes(x='age_range', fill='gender') +\n",
    "    geom_bar(stat='count', alpha=0.6) +\n",
    "    coord_flip() +\n",
    "    xlab('Age range') +\n",
    "    ylab('Counts') +\n",
    "    ggtitle(\"Count of different age ranges\") +\n",
    "    scale_fill_manual(values=[\"#264653\", \"#2a9d8f\", \"#e9c46a\"])\n",
    ")"
   ],
   "outputs": [],
   "metadata": {}
  },
  {
   "cell_type": "markdown",
   "source": [
    "The largest subgroup of our bikers are between the age of 25 and 35.\n",
    "\n",
    "**What about the hours our users usually bike at?**"
   ],
   "metadata": {}
  },
  {
   "cell_type": "code",
   "execution_count": null,
   "source": [
    "ggplot_options.figure_size = (10, 6)\n",
    "\n",
    "(ggplot(bikes_df) +\n",
    "    aes(x='start_hour', fill='gender') +\n",
    "    geom_bar(stat='count', alpha=0.6) +\n",
    "    xlab('Departure hour') +\n",
    "    ylab(\"Number of riders\") +\n",
    "    ggtitle(\"Number of riders in different hours\") +\n",
    "    facet_wrap('day_type', nrow=2) +\n",
    "    scale_fill_manual(values=[\"#264653\", \"#2a9d8f\", \"#e9c46a\"])\n",
    ")"
   ],
   "outputs": [],
   "metadata": {}
  },
  {
   "cell_type": "markdown",
   "source": [
    "The most active hours in the workweek are from 7 till 8 and after that at 17 till 18 o'clock. The customers are more active in the middle of the day than in the rush hours. Perhaps they are tourists and they are not in a hurry for anywhere.\n",
    "\n",
    "In the weekend we can see that subscribers are acting the way customers are, they are biking more in the middle of the day than in the rush hours. We have answered how long users ride in different hours, but can we tell how many riders we have in each hour?"
   ],
   "metadata": {}
  },
  {
   "cell_type": "markdown",
   "source": [
    "### **Median Trip duration for each day**"
   ],
   "metadata": {}
  },
  {
   "cell_type": "markdown",
   "source": [
    "Lets look in how much are users riding a bike for different days of the week. We are going to use the median as an aggregation statistic, since as we saw, more than 99% of the rides are less than an hour, but we have some rides with trip durations for days."
   ],
   "metadata": {}
  },
  {
   "cell_type": "code",
   "execution_count": null,
   "source": [
    "ggplot_options.figure_size = (6, 4)\n",
    "\n",
    "(bikes_df\n",
    " .groupby(['day_name', 'gender'])\n",
    " .median()\n",
    " .rename_axis(['weekday', 'gender'], axis='index')\n",
    " .reset_index()\n",
    " .pipe(ggplot) +\n",
    "    aes(x='weekday', y='tripduration_minutes', fill='gender') +\n",
    "    geom_bar(stat='identity', position='dodge', alpha=0.7) +\n",
    "    xlab('Day') +\n",
    "    ylab(\"Median duration in minutes\") +\n",
    "    ggtitle(\"Median duration in minutes for different weekdays\") +\n",
    "    scale_fill_manual(values=[\"#264653\", \"#2a9d8f\", \"#e9c46a\"])\n",
    ")"
   ],
   "outputs": [],
   "metadata": {}
  },
  {
   "cell_type": "markdown",
   "source": [
    "We can see that the distribution of the subscribers is approximately uniform, as for the customers, they are biking a lot longer in the weekends.\n",
    "\n",
    "Naturally, we are left with asking how many riders do we have for each day.\n",
    "\n",
    "### **Average number of riders for each day**"
   ],
   "metadata": {}
  },
  {
   "cell_type": "code",
   "execution_count": null,
   "source": [
    "ggplot_options.figure_size = (10, 4)\n",
    "(plot_average_rides_count_per_week(bikes_df, 'Subscriber') +\n",
    "    ggtitle(\"Average number of subscribers per each day\") +\n",
    "    theme_minimal()\n",
    ")"
   ],
   "outputs": [],
   "metadata": {}
  },
  {
   "cell_type": "code",
   "execution_count": null,
   "source": [
    "(plot_average_rides_count_per_week(bikes_df, 'Customer') +\n",
    "    ggtitle(\"Average number of customers per each day\") +\n",
    "    theme_minimal()\n",
    ")"
   ],
   "outputs": [],
   "metadata": {}
  },
  {
   "cell_type": "markdown",
   "source": [
    "We can see that subscribers are traveling more in the weekdays, while the customers prefer the weekends. This furthers the assumption that customers are using the bikes mostly for fun."
   ],
   "metadata": {}
  },
  {
   "cell_type": "markdown",
   "source": [
    "\n",
    "### **Another question we might ask is, who is riding more? Men or women?** "
   ],
   "metadata": {}
  },
  {
   "cell_type": "code",
   "execution_count": null,
   "source": [
    "regular_trips = bikes_df[bikes_df['tripduration_minutes'] < 60]\n",
    "\n",
    "(ggplot(regular_trips[0:10000]) +\n",
    "    aes(x='gender', y='tripduration_minutes', fill='gender') +\n",
    "    geom_boxplot(alpha=0.6) +\n",
    "    xlab('Gender') +\n",
    "    ylab(\"Duration in minutes\") +\n",
    "    ggtitle(\"Distributions of duration in minutes for different genders\") +\n",
    "    theme_minimal() +\n",
    "    scale_fill_manual(values=[\"#264653\", \"#2a9d8f\", \"#e9c46a\"])\n",
    ")"
   ],
   "outputs": [],
   "metadata": {}
  },
  {
   "cell_type": "markdown",
   "source": [
    "We see that women are taking a bit more time to arive at a place than men, while the customers are taking the longest. This might be because customers are biking for fun and exploration. Another thing that furthers that assumption is that as we saw in the previous plot, their departure hours are not in the rush hours as it is with the subscribers."
   ],
   "metadata": {}
  }
 ],
 "metadata": {
  "orig_nbformat": 4,
  "language_info": {
   "name": "python",
   "version": "3.9.2",
   "mimetype": "text/x-python",
   "codemirror_mode": {
    "name": "ipython",
    "version": 3
   },
   "pygments_lexer": "ipython3",
   "nbconvert_exporter": "python",
   "file_extension": ".py"
  },
  "kernelspec": {
   "name": "python3",
   "display_name": "Python 3.9.2 64-bit ('3.9.2': pyenv)"
  },
  "interpreter": {
   "hash": "1f638f2ca7539ec28c41b7df36d6ad28915baab15e9a88f50e3323c925045fd2"
  }
 },
 "nbformat": 4,
 "nbformat_minor": 2
}