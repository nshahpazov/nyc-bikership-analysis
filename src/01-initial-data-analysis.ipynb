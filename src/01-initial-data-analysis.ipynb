{
 "cells": [
  {
   "cell_type": "markdown",
   "source": [
    "## **City Bike Initial Data Analysis (IDA)**\n",
    "\n",
    "In this step we are going to dive into the dataset of Citibike riderships in February 2016 and do an initial data analysis in which we will:\n",
    "\n",
    "* Explore the available variables we have for each observation\n",
    "* Format the data columns to correct types, as well as check the data sanity of the date columns\n",
    "* Explore the presence of missing data: how much, in which column and whether there is some pattern in it\n",
    "* Add new helper columns and drop erroneous rows.\n",
    "\n",
    "Finally, we are going to store our processed bike and weather datasets into new csv files for further processing and analysis."
   ],
   "metadata": {}
  },
  {
   "cell_type": "code",
   "execution_count": 1,
   "source": [
    "# loading used packages\n",
    "import pandas as pd\n",
    "from utilities.date_utilities import is_bike_time_correct, format_bike_times\n",
    "from utilities.preprocess import attach_additional_bike_columns, cast_bike_types\n",
    "from os.path import abspath\n",
    "\n",
    "# constants\n",
    "RIDES_YEAR = 2016\n",
    "RIDES_MONTH = 2\n",
    "START_TIME_COL = 'starttime'\n",
    "STOP_TIME_COL = 'stoptime'\n",
    "TIME_COLUMNS = [START_TIME_COL, STOP_TIME_COL]\n",
    "\n",
    "# constants\n",
    "CITIBIKE_FILENAME = \"../data/raw/201602-citibike-tripdata.csv\"\n",
    "WEATHER_FILENAME = \"../data/raw/weather_data_nyc_centralpark_2016.csv\"\n",
    "\n",
    "# a filename of the dataset after preprocessing\n",
    "WEATHERLY_BIKES_FILENAME = \"../data/processed/weatherly_bikes_2016_02.csv\""
   ],
   "outputs": [],
   "metadata": {}
  },
  {
   "cell_type": "markdown",
   "source": [
    "### Loading and preparing the bike ridership data"
   ],
   "metadata": {}
  },
  {
   "cell_type": "code",
   "execution_count": 2,
   "source": [
    "# loading the bikes dataset\n",
    "bikes_df = pd.read_csv(abspath(CITIBIKE_FILENAME))\n",
    "bikes_df.head(2)"
   ],
   "outputs": [
    {
     "output_type": "execute_result",
     "data": {
      "text/html": [
       "<div>\n",
       "<style scoped>\n",
       "    .dataframe tbody tr th:only-of-type {\n",
       "        vertical-align: middle;\n",
       "    }\n",
       "\n",
       "    .dataframe tbody tr th {\n",
       "        vertical-align: top;\n",
       "    }\n",
       "\n",
       "    .dataframe thead th {\n",
       "        text-align: right;\n",
       "    }\n",
       "</style>\n",
       "<table border=\"1\" class=\"dataframe\">\n",
       "  <thead>\n",
       "    <tr style=\"text-align: right;\">\n",
       "      <th></th>\n",
       "      <th>tripduration</th>\n",
       "      <th>starttime</th>\n",
       "      <th>stoptime</th>\n",
       "      <th>start station id</th>\n",
       "      <th>start station name</th>\n",
       "      <th>start station latitude</th>\n",
       "      <th>start station longitude</th>\n",
       "      <th>end station id</th>\n",
       "      <th>end station name</th>\n",
       "      <th>end station latitude</th>\n",
       "      <th>end station longitude</th>\n",
       "      <th>bikeid</th>\n",
       "      <th>usertype</th>\n",
       "      <th>birth year</th>\n",
       "      <th>gender</th>\n",
       "    </tr>\n",
       "  </thead>\n",
       "  <tbody>\n",
       "    <tr>\n",
       "      <th>0</th>\n",
       "      <td>461</td>\n",
       "      <td>2/1/2016 00:00:08</td>\n",
       "      <td>2/1/2016 00:07:49</td>\n",
       "      <td>480</td>\n",
       "      <td>W 53 St &amp; 10 Ave</td>\n",
       "      <td>40.766697</td>\n",
       "      <td>-73.990617</td>\n",
       "      <td>524</td>\n",
       "      <td>W 43 St &amp; 6 Ave</td>\n",
       "      <td>40.755273</td>\n",
       "      <td>-73.983169</td>\n",
       "      <td>23292</td>\n",
       "      <td>Subscriber</td>\n",
       "      <td>1966.0</td>\n",
       "      <td>1</td>\n",
       "    </tr>\n",
       "    <tr>\n",
       "      <th>1</th>\n",
       "      <td>297</td>\n",
       "      <td>2/1/2016 00:00:56</td>\n",
       "      <td>2/1/2016 00:05:53</td>\n",
       "      <td>463</td>\n",
       "      <td>9 Ave &amp; W 16 St</td>\n",
       "      <td>40.742065</td>\n",
       "      <td>-74.004432</td>\n",
       "      <td>380</td>\n",
       "      <td>W 4 St &amp; 7 Ave S</td>\n",
       "      <td>40.734011</td>\n",
       "      <td>-74.002939</td>\n",
       "      <td>15329</td>\n",
       "      <td>Subscriber</td>\n",
       "      <td>1977.0</td>\n",
       "      <td>1</td>\n",
       "    </tr>\n",
       "  </tbody>\n",
       "</table>\n",
       "</div>"
      ],
      "text/plain": [
       "   tripduration          starttime           stoptime  start station id  \\\n",
       "0           461  2/1/2016 00:00:08  2/1/2016 00:07:49               480   \n",
       "1           297  2/1/2016 00:00:56  2/1/2016 00:05:53               463   \n",
       "\n",
       "  start station name  start station latitude  start station longitude  \\\n",
       "0   W 53 St & 10 Ave               40.766697               -73.990617   \n",
       "1    9 Ave & W 16 St               40.742065               -74.004432   \n",
       "\n",
       "   end station id  end station name  end station latitude  \\\n",
       "0             524   W 43 St & 6 Ave             40.755273   \n",
       "1             380  W 4 St & 7 Ave S             40.734011   \n",
       "\n",
       "   end station longitude  bikeid    usertype  birth year  gender  \n",
       "0             -73.983169   23292  Subscriber      1966.0       1  \n",
       "1             -74.002939   15329  Subscriber      1977.0       1  "
      ]
     },
     "metadata": {},
     "execution_count": 2
    }
   ],
   "metadata": {}
  },
  {
   "cell_type": "markdown",
   "source": [
    "####  Format columns, cast to correct types and add new helper ones. Dates sanity check"
   ],
   "metadata": {}
  },
  {
   "cell_type": "code",
   "execution_count": 3,
   "source": [
    "# checking the sanity of the dates of the bike riderships\n",
    "starttime_correct = is_bike_time_correct(bikes_df['starttime']).mean() * 100\n",
    "stoptime_correct = is_bike_time_correct(bikes_df['stoptime']).mean() * 100\n",
    "\n",
    "print(\"The starttime column is correct in {p:.2f}% of the cases.\".format(p=starttime_correct))\n",
    "print(\"The stoptime column is correct in {p:.2f}% of the cases.\".format(p=stoptime_correct))"
   ],
   "outputs": [
    {
     "output_type": "stream",
     "name": "stdout",
     "text": [
      "The starttime column is correct in 100.00% of the cases.\n",
      "The stoptime column is correct in 100.00% of the cases.\n"
     ]
    }
   ],
   "metadata": {}
  },
  {
   "cell_type": "code",
   "execution_count": 4,
   "source": [
    "# cast start and stop time to correct formats\n",
    "bikes_df[TIME_COLUMNS] = format_bike_times(bikes_df[TIME_COLUMNS])\n",
    "\n",
    "# cast to correct types\n",
    "bikes_df = cast_bike_types(bikes_df)\n",
    "\n",
    "# add additional helper columns to help with the analysis\n",
    "bikes_df = attach_additional_bike_columns(bikes_df)\n",
    "\n",
    "# see the processed dataframe\n",
    "bikes_df.head(3)"
   ],
   "outputs": [
    {
     "output_type": "execute_result",
     "data": {
      "text/html": [
       "<div>\n",
       "<style scoped>\n",
       "    .dataframe tbody tr th:only-of-type {\n",
       "        vertical-align: middle;\n",
       "    }\n",
       "\n",
       "    .dataframe tbody tr th {\n",
       "        vertical-align: top;\n",
       "    }\n",
       "\n",
       "    .dataframe thead th {\n",
       "        text-align: right;\n",
       "    }\n",
       "</style>\n",
       "<table border=\"1\" class=\"dataframe\">\n",
       "  <thead>\n",
       "    <tr style=\"text-align: right;\">\n",
       "      <th></th>\n",
       "      <th>tripduration</th>\n",
       "      <th>starttime</th>\n",
       "      <th>stoptime</th>\n",
       "      <th>start station id</th>\n",
       "      <th>start station name</th>\n",
       "      <th>start station latitude</th>\n",
       "      <th>start station longitude</th>\n",
       "      <th>end station id</th>\n",
       "      <th>end station name</th>\n",
       "      <th>end station latitude</th>\n",
       "      <th>...</th>\n",
       "      <th>gender</th>\n",
       "      <th>month</th>\n",
       "      <th>day</th>\n",
       "      <th>start_hour</th>\n",
       "      <th>start_minute</th>\n",
       "      <th>stop_hour</th>\n",
       "      <th>stop_minute</th>\n",
       "      <th>age</th>\n",
       "      <th>tripduration_minutes</th>\n",
       "      <th>tripduration_hours</th>\n",
       "    </tr>\n",
       "  </thead>\n",
       "  <tbody>\n",
       "    <tr>\n",
       "      <th>0</th>\n",
       "      <td>461</td>\n",
       "      <td>2016-02-01 00:00:08</td>\n",
       "      <td>2016-02-01 00:07:49</td>\n",
       "      <td>480</td>\n",
       "      <td>W 53 St &amp; 10 Ave</td>\n",
       "      <td>40.766697</td>\n",
       "      <td>-73.990617</td>\n",
       "      <td>524</td>\n",
       "      <td>W 43 St &amp; 6 Ave</td>\n",
       "      <td>40.755273</td>\n",
       "      <td>...</td>\n",
       "      <td>male</td>\n",
       "      <td>2</td>\n",
       "      <td>1</td>\n",
       "      <td>0</td>\n",
       "      <td>0</td>\n",
       "      <td>0</td>\n",
       "      <td>7</td>\n",
       "      <td>50</td>\n",
       "      <td>7.683333</td>\n",
       "      <td>0.128056</td>\n",
       "    </tr>\n",
       "    <tr>\n",
       "      <th>1</th>\n",
       "      <td>297</td>\n",
       "      <td>2016-02-01 00:00:56</td>\n",
       "      <td>2016-02-01 00:05:53</td>\n",
       "      <td>463</td>\n",
       "      <td>9 Ave &amp; W 16 St</td>\n",
       "      <td>40.742065</td>\n",
       "      <td>-74.004432</td>\n",
       "      <td>380</td>\n",
       "      <td>W 4 St &amp; 7 Ave S</td>\n",
       "      <td>40.734011</td>\n",
       "      <td>...</td>\n",
       "      <td>male</td>\n",
       "      <td>2</td>\n",
       "      <td>1</td>\n",
       "      <td>0</td>\n",
       "      <td>0</td>\n",
       "      <td>0</td>\n",
       "      <td>5</td>\n",
       "      <td>39</td>\n",
       "      <td>4.950000</td>\n",
       "      <td>0.082500</td>\n",
       "    </tr>\n",
       "    <tr>\n",
       "      <th>2</th>\n",
       "      <td>280</td>\n",
       "      <td>2016-02-01 00:01:00</td>\n",
       "      <td>2016-02-01 00:05:40</td>\n",
       "      <td>3134</td>\n",
       "      <td>3 Ave &amp; E 62 St</td>\n",
       "      <td>40.763126</td>\n",
       "      <td>-73.965269</td>\n",
       "      <td>3141</td>\n",
       "      <td>1 Ave &amp; E 68 St</td>\n",
       "      <td>40.765005</td>\n",
       "      <td>...</td>\n",
       "      <td>male</td>\n",
       "      <td>2</td>\n",
       "      <td>1</td>\n",
       "      <td>0</td>\n",
       "      <td>1</td>\n",
       "      <td>0</td>\n",
       "      <td>5</td>\n",
       "      <td>29</td>\n",
       "      <td>4.666667</td>\n",
       "      <td>0.077778</td>\n",
       "    </tr>\n",
       "  </tbody>\n",
       "</table>\n",
       "<p>3 rows × 24 columns</p>\n",
       "</div>"
      ],
      "text/plain": [
       "   tripduration           starttime            stoptime  start station id  \\\n",
       "0           461 2016-02-01 00:00:08 2016-02-01 00:07:49               480   \n",
       "1           297 2016-02-01 00:00:56 2016-02-01 00:05:53               463   \n",
       "2           280 2016-02-01 00:01:00 2016-02-01 00:05:40              3134   \n",
       "\n",
       "  start station name  start station latitude  start station longitude  \\\n",
       "0   W 53 St & 10 Ave               40.766697               -73.990617   \n",
       "1    9 Ave & W 16 St               40.742065               -74.004432   \n",
       "2    3 Ave & E 62 St               40.763126               -73.965269   \n",
       "\n",
       "   end station id  end station name  end station latitude  ...  gender  month  \\\n",
       "0             524   W 43 St & 6 Ave             40.755273  ...    male      2   \n",
       "1             380  W 4 St & 7 Ave S             40.734011  ...    male      2   \n",
       "2            3141   1 Ave & E 68 St             40.765005  ...    male      2   \n",
       "\n",
       "  day  start_hour start_minute  stop_hour  stop_minute  age  \\\n",
       "0   1           0            0          0            7   50   \n",
       "1   1           0            0          0            5   39   \n",
       "2   1           0            1          0            5   29   \n",
       "\n",
       "   tripduration_minutes  tripduration_hours  \n",
       "0              7.683333            0.128056  \n",
       "1              4.950000            0.082500  \n",
       "2              4.666667            0.077778  \n",
       "\n",
       "[3 rows x 24 columns]"
      ]
     },
     "metadata": {},
     "execution_count": 4
    }
   ],
   "metadata": {}
  },
  {
   "cell_type": "markdown",
   "source": [
    "#### Percentage of NAN values in each column"
   ],
   "metadata": {}
  },
  {
   "cell_type": "code",
   "execution_count": 5,
   "source": [
    "bikes_nan_props_ = bikes_df.isna().mean() * 100\n",
    "\n",
    "# percentage of nan values in each column\n",
    "bikes_nan_props_[bikes_nan_props_ > 0].map('{:,.2f}%'.format)"
   ],
   "outputs": [
    {
     "output_type": "execute_result",
     "data": {
      "text/plain": [
       "birth year    5.32%\n",
       "age           5.32%\n",
       "dtype: object"
      ]
     },
     "metadata": {},
     "execution_count": 5
    }
   ],
   "metadata": {}
  },
  {
   "cell_type": "markdown",
   "source": [
    "Only the column 'birth year' has missing values. That is of slightly above 5%. Let's see how missing age is distributed according to missing gender."
   ],
   "metadata": {}
  },
  {
   "cell_type": "code",
   "execution_count": 6,
   "source": [
    "# cross tabulation with gender NA values looking for some pattern in missing data\n",
    "year_missing_by_gender_df = pd.crosstab(bikes_df['gender'], bikes_df['birth year'].isna())\n",
    "year_missing_by_gender_df.columns = [\"Birth year known\", \"Birth year unknown\"]\n",
    "\n",
    "year_missing_by_gender_df"
   ],
   "outputs": [
    {
     "output_type": "execute_result",
     "data": {
      "text/html": [
       "<div>\n",
       "<style scoped>\n",
       "    .dataframe tbody tr th:only-of-type {\n",
       "        vertical-align: middle;\n",
       "    }\n",
       "\n",
       "    .dataframe tbody tr th {\n",
       "        vertical-align: top;\n",
       "    }\n",
       "\n",
       "    .dataframe thead th {\n",
       "        text-align: right;\n",
       "    }\n",
       "</style>\n",
       "<table border=\"1\" class=\"dataframe\">\n",
       "  <thead>\n",
       "    <tr style=\"text-align: right;\">\n",
       "      <th></th>\n",
       "      <th>Birth year known</th>\n",
       "      <th>Birth year unknown</th>\n",
       "    </tr>\n",
       "    <tr>\n",
       "      <th>gender</th>\n",
       "      <th></th>\n",
       "      <th></th>\n",
       "    </tr>\n",
       "  </thead>\n",
       "  <tbody>\n",
       "    <tr>\n",
       "      <th>female</th>\n",
       "      <td>112587</td>\n",
       "      <td>0</td>\n",
       "    </tr>\n",
       "    <tr>\n",
       "      <th>male</th>\n",
       "      <td>417215</td>\n",
       "      <td>1</td>\n",
       "    </tr>\n",
       "    <tr>\n",
       "      <th>unknown</th>\n",
       "      <td>1246</td>\n",
       "      <td>29825</td>\n",
       "    </tr>\n",
       "  </tbody>\n",
       "</table>\n",
       "</div>"
      ],
      "text/plain": [
       "         Birth year known  Birth year unknown\n",
       "gender                                       \n",
       "female             112587                   0\n",
       "male               417215                   1\n",
       "unknown              1246               29825"
      ]
     },
     "metadata": {},
     "execution_count": 6
    }
   ],
   "metadata": {}
  },
  {
   "cell_type": "markdown",
   "source": [
    "We can see that bikers with missing age, are having unknown gender as well. Maybe we can find some pattern with the different user types (Customer and Annual Subscriber)?"
   ],
   "metadata": {}
  },
  {
   "cell_type": "code",
   "execution_count": 7,
   "source": [
    "year_missing_by_usertype_df = pd.crosstab(bikes_df['usertype'], bikes_df['birth year'].isna())\n",
    "year_missing_by_usertype_df.columns = [\"Birth year known\", \"Birth year unknown\"]\n",
    "\n",
    "year_missing_by_usertype_df"
   ],
   "outputs": [
    {
     "output_type": "execute_result",
     "data": {
      "text/html": [
       "<div>\n",
       "<style scoped>\n",
       "    .dataframe tbody tr th:only-of-type {\n",
       "        vertical-align: middle;\n",
       "    }\n",
       "\n",
       "    .dataframe tbody tr th {\n",
       "        vertical-align: top;\n",
       "    }\n",
       "\n",
       "    .dataframe thead th {\n",
       "        text-align: right;\n",
       "    }\n",
       "</style>\n",
       "<table border=\"1\" class=\"dataframe\">\n",
       "  <thead>\n",
       "    <tr style=\"text-align: right;\">\n",
       "      <th></th>\n",
       "      <th>Birth year known</th>\n",
       "      <th>Birth year unknown</th>\n",
       "    </tr>\n",
       "    <tr>\n",
       "      <th>usertype</th>\n",
       "      <th></th>\n",
       "      <th></th>\n",
       "    </tr>\n",
       "  </thead>\n",
       "  <tbody>\n",
       "    <tr>\n",
       "      <th>Customer</th>\n",
       "      <td>0</td>\n",
       "      <td>29825</td>\n",
       "    </tr>\n",
       "    <tr>\n",
       "      <th>Subscriber</th>\n",
       "      <td>531048</td>\n",
       "      <td>1</td>\n",
       "    </tr>\n",
       "  </tbody>\n",
       "</table>\n",
       "</div>"
      ],
      "text/plain": [
       "            Birth year known  Birth year unknown\n",
       "usertype                                        \n",
       "Customer                   0               29825\n",
       "Subscriber            531048                   1"
      ]
     },
     "metadata": {},
     "execution_count": 7
    }
   ],
   "metadata": {}
  },
  {
   "cell_type": "markdown",
   "source": [
    "We have only one subscriber whose age is not available. The rest of the ones with unavailable age are all customers. One assumption for that might be that this information is not collected in any way for the customer users."
   ],
   "metadata": {}
  },
  {
   "cell_type": "markdown",
   "source": [
    "#### Exploring Birth year counts"
   ],
   "metadata": {}
  },
  {
   "cell_type": "code",
   "execution_count": 8,
   "source": [
    "pd.concat(\n",
    "    [bikes_df['age'].value_counts(normalize=False),\n",
    "     bikes_df['age'].value_counts(normalize=True)],\n",
    "    axis=1,\n",
    "    keys=('counts', 'percentage')\n",
    ").sort_index(ascending=False)"
   ],
   "outputs": [
    {
     "output_type": "execute_result",
     "data": {
      "text/html": [
       "<div>\n",
       "<style scoped>\n",
       "    .dataframe tbody tr th:only-of-type {\n",
       "        vertical-align: middle;\n",
       "    }\n",
       "\n",
       "    .dataframe tbody tr th {\n",
       "        vertical-align: top;\n",
       "    }\n",
       "\n",
       "    .dataframe thead th {\n",
       "        text-align: right;\n",
       "    }\n",
       "</style>\n",
       "<table border=\"1\" class=\"dataframe\">\n",
       "  <thead>\n",
       "    <tr style=\"text-align: right;\">\n",
       "      <th></th>\n",
       "      <th>counts</th>\n",
       "      <th>percentage</th>\n",
       "    </tr>\n",
       "  </thead>\n",
       "  <tbody>\n",
       "    <tr>\n",
       "      <th>131</th>\n",
       "      <td>94</td>\n",
       "      <td>0.000177</td>\n",
       "    </tr>\n",
       "    <tr>\n",
       "      <th>117</th>\n",
       "      <td>38</td>\n",
       "      <td>0.000072</td>\n",
       "    </tr>\n",
       "    <tr>\n",
       "      <th>116</th>\n",
       "      <td>101</td>\n",
       "      <td>0.00019</td>\n",
       "    </tr>\n",
       "    <tr>\n",
       "      <th>115</th>\n",
       "      <td>2</td>\n",
       "      <td>0.000004</td>\n",
       "    </tr>\n",
       "    <tr>\n",
       "      <th>109</th>\n",
       "      <td>4</td>\n",
       "      <td>0.000008</td>\n",
       "    </tr>\n",
       "    <tr>\n",
       "      <th>...</th>\n",
       "      <td>...</td>\n",
       "      <td>...</td>\n",
       "    </tr>\n",
       "    <tr>\n",
       "      <th>20</th>\n",
       "      <td>2971</td>\n",
       "      <td>0.005595</td>\n",
       "    </tr>\n",
       "    <tr>\n",
       "      <th>19</th>\n",
       "      <td>1229</td>\n",
       "      <td>0.002314</td>\n",
       "    </tr>\n",
       "    <tr>\n",
       "      <th>18</th>\n",
       "      <td>1363</td>\n",
       "      <td>0.002567</td>\n",
       "    </tr>\n",
       "    <tr>\n",
       "      <th>17</th>\n",
       "      <td>512</td>\n",
       "      <td>0.000964</td>\n",
       "    </tr>\n",
       "    <tr>\n",
       "      <th>16</th>\n",
       "      <td>23</td>\n",
       "      <td>0.000043</td>\n",
       "    </tr>\n",
       "  </tbody>\n",
       "</table>\n",
       "<p>79 rows × 2 columns</p>\n",
       "</div>"
      ],
      "text/plain": [
       "     counts  percentage\n",
       "131      94    0.000177\n",
       "117      38    0.000072\n",
       "116     101     0.00019\n",
       "115       2    0.000004\n",
       "109       4    0.000008\n",
       "..      ...         ...\n",
       "20     2971    0.005595\n",
       "19     1229    0.002314\n",
       "18     1363    0.002567\n",
       "17      512    0.000964\n",
       "16       23    0.000043\n",
       "\n",
       "[79 rows x 2 columns]"
      ]
     },
     "metadata": {},
     "execution_count": 8
    }
   ],
   "metadata": {}
  },
  {
   "cell_type": "markdown",
   "source": [
    "We can see that there are 94 people of age 131 and others of age above 100 years. This is probably due to erroneous data."
   ],
   "metadata": {}
  },
  {
   "cell_type": "markdown",
   "source": [
    "##### Trip duration"
   ],
   "metadata": {}
  },
  {
   "cell_type": "code",
   "execution_count": 9,
   "source": [
    "print(\"Trips above 500 hours: \", (bikes_df['tripduration_hours'] > 500).sum())\n",
    "print(\"Trips above 30 hours: \", (bikes_df['tripduration_hours'] > 30).sum())\n",
    "print(\"----------------------------\")\n",
    "print(\"99th emperical quantile is {q:.2f} minutes\".format(q=bikes_df['tripduration_minutes'].quantile(.99)))"
   ],
   "outputs": [
    {
     "output_type": "stream",
     "name": "stdout",
     "text": [
      "Trips above 500 hours:  2\n",
      "Trips above 30 hours:  202\n",
      "----------------------------\n",
      "99th emperical quantile is 51.79 minutes\n"
     ]
    }
   ],
   "metadata": {}
  },
  {
   "cell_type": "markdown",
   "source": [
    "Lets also do another cross tabulation to see whether longer rides are not correlated with the user types in some manner."
   ],
   "metadata": {}
  },
  {
   "cell_type": "code",
   "execution_count": 10,
   "source": [
    "x = pd.crosstab(\n",
    "    (bikes_df['tripduration_hours'] > 1).map({True: '> 1 hour', False: '< 1 hour'}),\n",
    "    bikes_df['usertype'],\n",
    "    margins=True\n",
    ")\n",
    "# (2509 / 29825) * 100 :- percentage of customers riding above an hour\n",
    "# (2024 / 531049) * 100 :- percentage of subscribers riding above an hour\n"
   ],
   "outputs": [],
   "metadata": {}
  },
  {
   "cell_type": "markdown",
   "source": [
    "There are 202 trips lasting more than 30 hours, and even some lasting longer than 500 hours. However, 99% of <u>all</u> the trips' duration is below an hour.\n",
    "\n",
    "Aproximately 8% of the <u>customer</u> type trips have lasted more than an hour, while the <u>subscribers'</u> trips lasting more than an hour are only 0.4% (less than percent). <br/>\n",
    "One assumption for that might be that some riders, especially customers, are forgetting to dock their bikes after usage. We should keep in mind that fact, since those observations would greatly affect the mean of the distribution of the trip durations.\n",
    "\n",
    "### Dropping erroneous data"
   ],
   "metadata": {}
  },
  {
   "cell_type": "code",
   "execution_count": 11,
   "source": [
    "# dropping with age above 90\n",
    "MAX_AGE = 90\n",
    "\n",
    "drop_mask = bikes_df['age'] > MAX_AGE\n",
    "print(\"We are going to drop {p:.2f}% of our data\".format(p=drop_mask.mean() * 100))\n",
    "\n",
    "bikes_df = bikes_df[(~drop_mask | bikes_df['age'].isna())]"
   ],
   "outputs": [
    {
     "output_type": "stream",
     "name": "stdout",
     "text": [
      "We are going to drop 0.05% of our data\n"
     ]
    }
   ],
   "metadata": {}
  },
  {
   "cell_type": "markdown",
   "source": [
    "### **Joining our data with the weather data**"
   ],
   "metadata": {}
  },
  {
   "cell_type": "code",
   "execution_count": 12,
   "source": [
    "weather_df = pd.read_csv(WEATHER_FILENAME)\n",
    "weather_df.head(5)"
   ],
   "outputs": [
    {
     "output_type": "execute_result",
     "data": {
      "text/html": [
       "<div>\n",
       "<style scoped>\n",
       "    .dataframe tbody tr th:only-of-type {\n",
       "        vertical-align: middle;\n",
       "    }\n",
       "\n",
       "    .dataframe tbody tr th {\n",
       "        vertical-align: top;\n",
       "    }\n",
       "\n",
       "    .dataframe thead th {\n",
       "        text-align: right;\n",
       "    }\n",
       "</style>\n",
       "<table border=\"1\" class=\"dataframe\">\n",
       "  <thead>\n",
       "    <tr style=\"text-align: right;\">\n",
       "      <th></th>\n",
       "      <th>date</th>\n",
       "      <th>maximum temperature</th>\n",
       "      <th>minimum temperature</th>\n",
       "      <th>average temperature</th>\n",
       "      <th>precipitation</th>\n",
       "      <th>snow fall</th>\n",
       "      <th>snow depth</th>\n",
       "    </tr>\n",
       "  </thead>\n",
       "  <tbody>\n",
       "    <tr>\n",
       "      <th>0</th>\n",
       "      <td>1-1-2016</td>\n",
       "      <td>42</td>\n",
       "      <td>34</td>\n",
       "      <td>38.0</td>\n",
       "      <td>0.00</td>\n",
       "      <td>0.0</td>\n",
       "      <td>0</td>\n",
       "    </tr>\n",
       "    <tr>\n",
       "      <th>1</th>\n",
       "      <td>2-1-2016</td>\n",
       "      <td>40</td>\n",
       "      <td>32</td>\n",
       "      <td>36.0</td>\n",
       "      <td>0.00</td>\n",
       "      <td>0.0</td>\n",
       "      <td>0</td>\n",
       "    </tr>\n",
       "    <tr>\n",
       "      <th>2</th>\n",
       "      <td>3-1-2016</td>\n",
       "      <td>45</td>\n",
       "      <td>35</td>\n",
       "      <td>40.0</td>\n",
       "      <td>0.00</td>\n",
       "      <td>0.0</td>\n",
       "      <td>0</td>\n",
       "    </tr>\n",
       "    <tr>\n",
       "      <th>3</th>\n",
       "      <td>4-1-2016</td>\n",
       "      <td>36</td>\n",
       "      <td>14</td>\n",
       "      <td>25.0</td>\n",
       "      <td>0.00</td>\n",
       "      <td>0.0</td>\n",
       "      <td>0</td>\n",
       "    </tr>\n",
       "    <tr>\n",
       "      <th>4</th>\n",
       "      <td>5-1-2016</td>\n",
       "      <td>29</td>\n",
       "      <td>11</td>\n",
       "      <td>20.0</td>\n",
       "      <td>0.00</td>\n",
       "      <td>0.0</td>\n",
       "      <td>0</td>\n",
       "    </tr>\n",
       "  </tbody>\n",
       "</table>\n",
       "</div>"
      ],
      "text/plain": [
       "       date  maximum temperature  minimum temperature  average temperature  \\\n",
       "0  1-1-2016                   42                   34                 38.0   \n",
       "1  2-1-2016                   40                   32                 36.0   \n",
       "2  3-1-2016                   45                   35                 40.0   \n",
       "3  4-1-2016                   36                   14                 25.0   \n",
       "4  5-1-2016                   29                   11                 20.0   \n",
       "\n",
       "  precipitation snow fall snow depth  \n",
       "0          0.00       0.0          0  \n",
       "1          0.00       0.0          0  \n",
       "2          0.00       0.0          0  \n",
       "3          0.00       0.0          0  \n",
       "4          0.00       0.0          0  "
      ]
     },
     "metadata": {},
     "execution_count": 12
    }
   ],
   "metadata": {}
  },
  {
   "cell_type": "markdown",
   "source": [
    "Next, we extract the weather rows only for Febuary, do some date reformatting and add new columns to the weather dataset."
   ],
   "metadata": {}
  },
  {
   "cell_type": "code",
   "execution_count": 13,
   "source": [
    "# format the weather date to a correct format and join with our dataset\n",
    "weather_df['date'] = weather_df['date'].apply(pd.to_datetime, format=\"%d-%m-%Y\")\n",
    "\n",
    "# add additional columns\n",
    "weather_df['month'] = weather_df['date'].dt.month\n",
    "weather_df['year'] = weather_df['date'].dt.year\n",
    "weather_df['day'] = weather_df['date'].dt.day\n",
    "\n",
    "# drop weather data which is not in february\n",
    "feb_mask = (weather_df['month'] == RIDES_MONTH) & (weather_df['year'] == RIDES_YEAR)\n",
    "weather_df = weather_df[feb_mask]\n",
    "weather_df.head()"
   ],
   "outputs": [
    {
     "output_type": "execute_result",
     "data": {
      "text/html": [
       "<div>\n",
       "<style scoped>\n",
       "    .dataframe tbody tr th:only-of-type {\n",
       "        vertical-align: middle;\n",
       "    }\n",
       "\n",
       "    .dataframe tbody tr th {\n",
       "        vertical-align: top;\n",
       "    }\n",
       "\n",
       "    .dataframe thead th {\n",
       "        text-align: right;\n",
       "    }\n",
       "</style>\n",
       "<table border=\"1\" class=\"dataframe\">\n",
       "  <thead>\n",
       "    <tr style=\"text-align: right;\">\n",
       "      <th></th>\n",
       "      <th>date</th>\n",
       "      <th>maximum temperature</th>\n",
       "      <th>minimum temperature</th>\n",
       "      <th>average temperature</th>\n",
       "      <th>precipitation</th>\n",
       "      <th>snow fall</th>\n",
       "      <th>snow depth</th>\n",
       "      <th>month</th>\n",
       "      <th>year</th>\n",
       "      <th>day</th>\n",
       "    </tr>\n",
       "  </thead>\n",
       "  <tbody>\n",
       "    <tr>\n",
       "      <th>31</th>\n",
       "      <td>2016-02-01</td>\n",
       "      <td>59</td>\n",
       "      <td>44</td>\n",
       "      <td>51.5</td>\n",
       "      <td>0.01</td>\n",
       "      <td>0.0</td>\n",
       "      <td>2</td>\n",
       "      <td>2</td>\n",
       "      <td>2016</td>\n",
       "      <td>1</td>\n",
       "    </tr>\n",
       "    <tr>\n",
       "      <th>32</th>\n",
       "      <td>2016-02-02</td>\n",
       "      <td>50</td>\n",
       "      <td>38</td>\n",
       "      <td>44.0</td>\n",
       "      <td>0.00</td>\n",
       "      <td>0.0</td>\n",
       "      <td>T</td>\n",
       "      <td>2</td>\n",
       "      <td>2016</td>\n",
       "      <td>2</td>\n",
       "    </tr>\n",
       "    <tr>\n",
       "      <th>33</th>\n",
       "      <td>2016-02-03</td>\n",
       "      <td>59</td>\n",
       "      <td>42</td>\n",
       "      <td>50.5</td>\n",
       "      <td>0.73</td>\n",
       "      <td>0.0</td>\n",
       "      <td>0</td>\n",
       "      <td>2</td>\n",
       "      <td>2016</td>\n",
       "      <td>3</td>\n",
       "    </tr>\n",
       "    <tr>\n",
       "      <th>34</th>\n",
       "      <td>2016-02-04</td>\n",
       "      <td>59</td>\n",
       "      <td>44</td>\n",
       "      <td>51.5</td>\n",
       "      <td>T</td>\n",
       "      <td>0.0</td>\n",
       "      <td>0</td>\n",
       "      <td>2</td>\n",
       "      <td>2016</td>\n",
       "      <td>4</td>\n",
       "    </tr>\n",
       "    <tr>\n",
       "      <th>35</th>\n",
       "      <td>2016-02-05</td>\n",
       "      <td>44</td>\n",
       "      <td>31</td>\n",
       "      <td>37.5</td>\n",
       "      <td>0.53</td>\n",
       "      <td>2.5</td>\n",
       "      <td>1</td>\n",
       "      <td>2</td>\n",
       "      <td>2016</td>\n",
       "      <td>5</td>\n",
       "    </tr>\n",
       "  </tbody>\n",
       "</table>\n",
       "</div>"
      ],
      "text/plain": [
       "         date  maximum temperature  minimum temperature  average temperature  \\\n",
       "31 2016-02-01                   59                   44                 51.5   \n",
       "32 2016-02-02                   50                   38                 44.0   \n",
       "33 2016-02-03                   59                   42                 50.5   \n",
       "34 2016-02-04                   59                   44                 51.5   \n",
       "35 2016-02-05                   44                   31                 37.5   \n",
       "\n",
       "   precipitation snow fall snow depth  month  year  day  \n",
       "31          0.01       0.0          2      2  2016    1  \n",
       "32          0.00       0.0          T      2  2016    2  \n",
       "33          0.73       0.0          0      2  2016    3  \n",
       "34             T       0.0          0      2  2016    4  \n",
       "35          0.53       2.5          1      2  2016    5  "
      ]
     },
     "metadata": {},
     "execution_count": 13
    }
   ],
   "metadata": {}
  },
  {
   "cell_type": "markdown",
   "source": [
    "Finally, we store our processed datasets to new csv files, so that we use them in our furher analysis."
   ],
   "metadata": {}
  },
  {
   "cell_type": "code",
   "execution_count": 14,
   "source": [
    "# writing our processed dataframes to csvs\n",
    "bikes_df.to_csv(abspath(\"../data/processed/bikes_2016_02.csv\"))\n",
    "weather_df.to_csv(abspath(\"../data/processed/weather_2016_02.csv\"))\n",
    "\n",
    "# weatherly_bikes_df = pd.merge(left=bikes_df, right=weather_df, left_on='day', right_on='day')\n",
    "# weatherly_bikes_df.to_csv(\"../data/processed/weatherly_bikes_2016_02.csv\")\n",
    "# weatherly_bikes_df['average temperature'].describe()"
   ],
   "outputs": [],
   "metadata": {}
  }
 ],
 "metadata": {
  "orig_nbformat": 4,
  "language_info": {
   "name": "python",
   "version": "3.9.2",
   "mimetype": "text/x-python",
   "codemirror_mode": {
    "name": "ipython",
    "version": 3
   },
   "pygments_lexer": "ipython3",
   "nbconvert_exporter": "python",
   "file_extension": ".py"
  },
  "kernelspec": {
   "name": "python3",
   "display_name": "Python 3.9.2 64-bit ('3.9.2': pyenv)"
  },
  "interpreter": {
   "hash": "1f638f2ca7539ec28c41b7df36d6ad28915baab15e9a88f50e3323c925045fd2"
  }
 },
 "nbformat": 4,
 "nbformat_minor": 2
}