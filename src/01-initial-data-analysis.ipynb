{
 "cells": [
  {
   "cell_type": "markdown",
   "source": [
    "# City Bike Initial Data Analysis (IDA)\n",
    "\n",
    "In this step we are going to dive into the dataset of citibikes riderships of February, 2016 and do an initial data analysis in which we will\n",
    "\n",
    "* Explore the available variables we have for each observation\n",
    "* Format the data columns to a correct types as well as check the data sanity of the date columns\n",
    "* Explore the presence of missing data, how much, in which column and whether there is some pattern in it.\n",
    "\n",
    "Finally we are going to join with a weather dataset for the same time period and save our processed dataset in a new csv ready for further analysis."
   ],
   "metadata": {}
  },
  {
   "cell_type": "code",
   "execution_count": 1,
   "source": [
    "# loading used packages\n",
    "import pandas as pd\n",
    "from utilities.date_utilities import is_bike_time_correct, format_bike_times\n",
    "from utilities.preprocess import attach_additional_bike_columns, cast_bike_types\n",
    "\n",
    "from dotenv import find_dotenv, load_dotenv\n",
    "import os\n",
    "\n",
    "# load .env environment variables\n",
    "load_dotenv(find_dotenv())\n",
    "\n",
    "# env constants\n",
    "RIDES_YEAR = os.environ.get('RIDES_YEAR')\n",
    "RIDES_MONTH = os.environ.get('RIDES_MONTH')\n",
    "RIDES_NEXT_MONTH = os.environ.get('RIDES_NEXT_MONTH')\n",
    "START_TIME_COL = os.environ.get('START_TIME_COL')\n",
    "STOP_TIME_COL = os.environ.get('STOP_TIME_COL')\n",
    "\n",
    "# constants\n",
    "CITIBIKE_FILENAME = \"../data/raw/201602-citibike-tripdata.csv\"\n",
    "WEATHER_FILENAME = \"../data/raw/weather_data_nyc_centralpark_2016.csv\"\n",
    "\n",
    "# a filename of the dataset after preprocessing\n",
    "WEATHERLY_BIKES_FILENAME = \"../data/processed/weatherly_bikes_2016_02.csv\"\n",
    "\n",
    "TIME_COLUMNS = ['starttime', 'stoptime']"
   ],
   "outputs": [],
   "metadata": {}
  },
  {
   "cell_type": "markdown",
   "source": [
    "### Loading and preparing the bike ridership data"
   ],
   "metadata": {}
  },
  {
   "cell_type": "code",
   "execution_count": 2,
   "source": [
    "# loading the bikes dataset\n",
    "bikes_df = pd.read_csv(CITIBIKE_FILENAME)"
   ],
   "outputs": [],
   "metadata": {}
  },
  {
   "cell_type": "markdown",
   "source": [
    "####  Format columns, cast to correct types and add new helper ones. Dates sanity check"
   ],
   "metadata": {}
  },
  {
   "cell_type": "code",
   "execution_count": 3,
   "source": [
    "# checking the sanity of the dates of the bike riderships\n",
    "starttime_correct = is_bike_time_correct(bikes_df['starttime']).mean() * 100\n",
    "stoptime_correct = is_bike_time_correct(bikes_df['stoptime']).mean() * 100\n",
    "\n",
    "print(\"The starttime column is correct in {p:.2f}% of the cases.\".format(p=starttime_correct))\n",
    "print(\"The stoptime column is correct in {p:.2f}% of the cases.\".format(p=stoptime_correct))"
   ],
   "outputs": [
    {
     "output_type": "stream",
     "name": "stdout",
     "text": [
      "The starttime column is correct in 100.00% of the cases.\n",
      "The stoptime column is correct in 100.00% of the cases.\n"
     ]
    }
   ],
   "metadata": {}
  },
  {
   "cell_type": "code",
   "execution_count": 4,
   "source": [
    "# cast start and stop time to correct formats\n",
    "bikes_df[TIME_COLUMNS] = format_bike_times(bikes_df[TIME_COLUMNS])"
   ],
   "outputs": [],
   "metadata": {}
  },
  {
   "cell_type": "code",
   "execution_count": 5,
   "source": [
    "# cast to correct types\n",
    "bikes_df = cast_bike_types(bikes_df)\n",
    "\n",
    "# add additional helper columns to help with the analysis\n",
    "bikes_df = attach_additional_bike_columns(bikes_df)\n",
    "\n",
    "# see the processed dataframe\n",
    "bikes_df.head()"
   ],
   "outputs": [
    {
     "output_type": "execute_result",
     "data": {
      "text/html": [
       "<div>\n",
       "<style scoped>\n",
       "    .dataframe tbody tr th:only-of-type {\n",
       "        vertical-align: middle;\n",
       "    }\n",
       "\n",
       "    .dataframe tbody tr th {\n",
       "        vertical-align: top;\n",
       "    }\n",
       "\n",
       "    .dataframe thead th {\n",
       "        text-align: right;\n",
       "    }\n",
       "</style>\n",
       "<table border=\"1\" class=\"dataframe\">\n",
       "  <thead>\n",
       "    <tr style=\"text-align: right;\">\n",
       "      <th></th>\n",
       "      <th>tripduration</th>\n",
       "      <th>starttime</th>\n",
       "      <th>stoptime</th>\n",
       "      <th>start station id</th>\n",
       "      <th>start station name</th>\n",
       "      <th>start station latitude</th>\n",
       "      <th>start station longitude</th>\n",
       "      <th>end station id</th>\n",
       "      <th>end station name</th>\n",
       "      <th>end station latitude</th>\n",
       "      <th>...</th>\n",
       "      <th>gender</th>\n",
       "      <th>month</th>\n",
       "      <th>day</th>\n",
       "      <th>start_hour</th>\n",
       "      <th>start_minute</th>\n",
       "      <th>stop_hour</th>\n",
       "      <th>stop_minute</th>\n",
       "      <th>age</th>\n",
       "      <th>tripduration_minutes</th>\n",
       "      <th>tripduration_hours</th>\n",
       "    </tr>\n",
       "  </thead>\n",
       "  <tbody>\n",
       "    <tr>\n",
       "      <th>0</th>\n",
       "      <td>461</td>\n",
       "      <td>2016-02-01 00:00:08</td>\n",
       "      <td>2016-02-01 00:07:49</td>\n",
       "      <td>480</td>\n",
       "      <td>W 53 St &amp; 10 Ave</td>\n",
       "      <td>40.766697</td>\n",
       "      <td>-73.990617</td>\n",
       "      <td>524</td>\n",
       "      <td>W 43 St &amp; 6 Ave</td>\n",
       "      <td>40.755273</td>\n",
       "      <td>...</td>\n",
       "      <td>male</td>\n",
       "      <td>2</td>\n",
       "      <td>1</td>\n",
       "      <td>0</td>\n",
       "      <td>0</td>\n",
       "      <td>0</td>\n",
       "      <td>7</td>\n",
       "      <td>50</td>\n",
       "      <td>7.683333</td>\n",
       "      <td>0.128056</td>\n",
       "    </tr>\n",
       "    <tr>\n",
       "      <th>1</th>\n",
       "      <td>297</td>\n",
       "      <td>2016-02-01 00:00:56</td>\n",
       "      <td>2016-02-01 00:05:53</td>\n",
       "      <td>463</td>\n",
       "      <td>9 Ave &amp; W 16 St</td>\n",
       "      <td>40.742065</td>\n",
       "      <td>-74.004432</td>\n",
       "      <td>380</td>\n",
       "      <td>W 4 St &amp; 7 Ave S</td>\n",
       "      <td>40.734011</td>\n",
       "      <td>...</td>\n",
       "      <td>male</td>\n",
       "      <td>2</td>\n",
       "      <td>1</td>\n",
       "      <td>0</td>\n",
       "      <td>0</td>\n",
       "      <td>0</td>\n",
       "      <td>5</td>\n",
       "      <td>39</td>\n",
       "      <td>4.950000</td>\n",
       "      <td>0.082500</td>\n",
       "    </tr>\n",
       "    <tr>\n",
       "      <th>2</th>\n",
       "      <td>280</td>\n",
       "      <td>2016-02-01 00:01:00</td>\n",
       "      <td>2016-02-01 00:05:40</td>\n",
       "      <td>3134</td>\n",
       "      <td>3 Ave &amp; E 62 St</td>\n",
       "      <td>40.763126</td>\n",
       "      <td>-73.965269</td>\n",
       "      <td>3141</td>\n",
       "      <td>1 Ave &amp; E 68 St</td>\n",
       "      <td>40.765005</td>\n",
       "      <td>...</td>\n",
       "      <td>male</td>\n",
       "      <td>2</td>\n",
       "      <td>1</td>\n",
       "      <td>0</td>\n",
       "      <td>1</td>\n",
       "      <td>0</td>\n",
       "      <td>5</td>\n",
       "      <td>29</td>\n",
       "      <td>4.666667</td>\n",
       "      <td>0.077778</td>\n",
       "    </tr>\n",
       "    <tr>\n",
       "      <th>3</th>\n",
       "      <td>662</td>\n",
       "      <td>2016-02-01 00:01:00</td>\n",
       "      <td>2016-02-01 00:12:02</td>\n",
       "      <td>537</td>\n",
       "      <td>Lexington Ave &amp; E 24 St</td>\n",
       "      <td>40.740259</td>\n",
       "      <td>-73.984092</td>\n",
       "      <td>428</td>\n",
       "      <td>E 3 St &amp; 1 Ave</td>\n",
       "      <td>40.724677</td>\n",
       "      <td>...</td>\n",
       "      <td>female</td>\n",
       "      <td>2</td>\n",
       "      <td>1</td>\n",
       "      <td>0</td>\n",
       "      <td>1</td>\n",
       "      <td>0</td>\n",
       "      <td>12</td>\n",
       "      <td>33</td>\n",
       "      <td>11.033333</td>\n",
       "      <td>0.183889</td>\n",
       "    </tr>\n",
       "    <tr>\n",
       "      <th>4</th>\n",
       "      <td>355</td>\n",
       "      <td>2016-02-01 00:01:41</td>\n",
       "      <td>2016-02-01 00:07:36</td>\n",
       "      <td>284</td>\n",
       "      <td>Greenwich Ave &amp; 8 Ave</td>\n",
       "      <td>40.739017</td>\n",
       "      <td>-74.002638</td>\n",
       "      <td>521</td>\n",
       "      <td>8 Ave &amp; W 31 St</td>\n",
       "      <td>40.750967</td>\n",
       "      <td>...</td>\n",
       "      <td>male</td>\n",
       "      <td>2</td>\n",
       "      <td>1</td>\n",
       "      <td>0</td>\n",
       "      <td>1</td>\n",
       "      <td>0</td>\n",
       "      <td>7</td>\n",
       "      <td>38</td>\n",
       "      <td>5.916667</td>\n",
       "      <td>0.098611</td>\n",
       "    </tr>\n",
       "  </tbody>\n",
       "</table>\n",
       "<p>5 rows × 24 columns</p>\n",
       "</div>"
      ],
      "text/plain": [
       "   tripduration           starttime            stoptime  start station id  \\\n",
       "0           461 2016-02-01 00:00:08 2016-02-01 00:07:49               480   \n",
       "1           297 2016-02-01 00:00:56 2016-02-01 00:05:53               463   \n",
       "2           280 2016-02-01 00:01:00 2016-02-01 00:05:40              3134   \n",
       "3           662 2016-02-01 00:01:00 2016-02-01 00:12:02               537   \n",
       "4           355 2016-02-01 00:01:41 2016-02-01 00:07:36               284   \n",
       "\n",
       "        start station name  start station latitude  start station longitude  \\\n",
       "0         W 53 St & 10 Ave               40.766697               -73.990617   \n",
       "1          9 Ave & W 16 St               40.742065               -74.004432   \n",
       "2          3 Ave & E 62 St               40.763126               -73.965269   \n",
       "3  Lexington Ave & E 24 St               40.740259               -73.984092   \n",
       "4    Greenwich Ave & 8 Ave               40.739017               -74.002638   \n",
       "\n",
       "   end station id  end station name  end station latitude  ...  gender  month  \\\n",
       "0             524   W 43 St & 6 Ave             40.755273  ...    male      2   \n",
       "1             380  W 4 St & 7 Ave S             40.734011  ...    male      2   \n",
       "2            3141   1 Ave & E 68 St             40.765005  ...    male      2   \n",
       "3             428    E 3 St & 1 Ave             40.724677  ...  female      2   \n",
       "4             521   8 Ave & W 31 St             40.750967  ...    male      2   \n",
       "\n",
       "  day  start_hour start_minute  stop_hour  stop_minute  age  \\\n",
       "0   1           0            0          0            7   50   \n",
       "1   1           0            0          0            5   39   \n",
       "2   1           0            1          0            5   29   \n",
       "3   1           0            1          0           12   33   \n",
       "4   1           0            1          0            7   38   \n",
       "\n",
       "   tripduration_minutes  tripduration_hours  \n",
       "0              7.683333            0.128056  \n",
       "1              4.950000            0.082500  \n",
       "2              4.666667            0.077778  \n",
       "3             11.033333            0.183889  \n",
       "4              5.916667            0.098611  \n",
       "\n",
       "[5 rows x 24 columns]"
      ]
     },
     "metadata": {},
     "execution_count": 5
    }
   ],
   "metadata": {}
  },
  {
   "cell_type": "markdown",
   "source": [
    "#### Percentage of NAN values in each column"
   ],
   "metadata": {}
  },
  {
   "cell_type": "code",
   "execution_count": 6,
   "source": [
    "bikes_nan_props_ = bikes_df.isna().mean() * 100\n",
    "\n",
    "# percentage of nan values in each column\n",
    "bikes_nan_props_[bikes_nan_props_ > 0].map('{:,.2f}%'.format)"
   ],
   "outputs": [
    {
     "output_type": "execute_result",
     "data": {
      "text/plain": [
       "birth year    5.32%\n",
       "age           5.32%\n",
       "dtype: object"
      ]
     },
     "metadata": {},
     "execution_count": 6
    }
   ],
   "metadata": {}
  },
  {
   "cell_type": "markdown",
   "source": [
    "Only birth year has missing values. That is of slightly above 5%. Lets see how missing age is distributed according to missing gender."
   ],
   "metadata": {}
  },
  {
   "cell_type": "code",
   "execution_count": 7,
   "source": [
    "# cross tabulation with gender NA values looking for some pattern in missing data\n",
    "pd.crosstab(bikes_df['gender'], bikes_df['birth year'].isna())"
   ],
   "outputs": [
    {
     "output_type": "execute_result",
     "data": {
      "text/html": [
       "<div>\n",
       "<style scoped>\n",
       "    .dataframe tbody tr th:only-of-type {\n",
       "        vertical-align: middle;\n",
       "    }\n",
       "\n",
       "    .dataframe tbody tr th {\n",
       "        vertical-align: top;\n",
       "    }\n",
       "\n",
       "    .dataframe thead th {\n",
       "        text-align: right;\n",
       "    }\n",
       "</style>\n",
       "<table border=\"1\" class=\"dataframe\">\n",
       "  <thead>\n",
       "    <tr style=\"text-align: right;\">\n",
       "      <th>birth year</th>\n",
       "      <th>False</th>\n",
       "      <th>True</th>\n",
       "    </tr>\n",
       "    <tr>\n",
       "      <th>gender</th>\n",
       "      <th></th>\n",
       "      <th></th>\n",
       "    </tr>\n",
       "  </thead>\n",
       "  <tbody>\n",
       "    <tr>\n",
       "      <th>female</th>\n",
       "      <td>112587</td>\n",
       "      <td>0</td>\n",
       "    </tr>\n",
       "    <tr>\n",
       "      <th>male</th>\n",
       "      <td>417215</td>\n",
       "      <td>1</td>\n",
       "    </tr>\n",
       "    <tr>\n",
       "      <th>unknown</th>\n",
       "      <td>1246</td>\n",
       "      <td>29825</td>\n",
       "    </tr>\n",
       "  </tbody>\n",
       "</table>\n",
       "</div>"
      ],
      "text/plain": [
       "birth year   False  True \n",
       "gender                   \n",
       "female      112587      0\n",
       "male        417215      1\n",
       "unknown       1246  29825"
      ]
     },
     "metadata": {},
     "execution_count": 7
    }
   ],
   "metadata": {}
  },
  {
   "cell_type": "markdown",
   "source": [
    "We can actually see that most people hiding their age are actually hiding their gender as well. Maybe we can find some pattern with the different user types (Customer and Annual Subscriber)?"
   ],
   "metadata": {}
  },
  {
   "cell_type": "code",
   "execution_count": 8,
   "source": [
    "pd.crosstab(bikes_df['usertype'], bikes_df['birth year'].isna())"
   ],
   "outputs": [
    {
     "output_type": "execute_result",
     "data": {
      "text/html": [
       "<div>\n",
       "<style scoped>\n",
       "    .dataframe tbody tr th:only-of-type {\n",
       "        vertical-align: middle;\n",
       "    }\n",
       "\n",
       "    .dataframe tbody tr th {\n",
       "        vertical-align: top;\n",
       "    }\n",
       "\n",
       "    .dataframe thead th {\n",
       "        text-align: right;\n",
       "    }\n",
       "</style>\n",
       "<table border=\"1\" class=\"dataframe\">\n",
       "  <thead>\n",
       "    <tr style=\"text-align: right;\">\n",
       "      <th>birth year</th>\n",
       "      <th>False</th>\n",
       "      <th>True</th>\n",
       "    </tr>\n",
       "    <tr>\n",
       "      <th>usertype</th>\n",
       "      <th></th>\n",
       "      <th></th>\n",
       "    </tr>\n",
       "  </thead>\n",
       "  <tbody>\n",
       "    <tr>\n",
       "      <th>Customer</th>\n",
       "      <td>0</td>\n",
       "      <td>29825</td>\n",
       "    </tr>\n",
       "    <tr>\n",
       "      <th>Subscriber</th>\n",
       "      <td>531048</td>\n",
       "      <td>1</td>\n",
       "    </tr>\n",
       "  </tbody>\n",
       "</table>\n",
       "</div>"
      ],
      "text/plain": [
       "birth year   False  True \n",
       "usertype                 \n",
       "Customer         0  29825\n",
       "Subscriber  531048      1"
      ]
     },
     "metadata": {},
     "execution_count": 8
    }
   ],
   "metadata": {}
  },
  {
   "cell_type": "markdown",
   "source": [
    "We have only one subscriber whose age is not available. The rest of the ones with unavailable age are customers. One assumption for that might be that this information is not collected in any way for customer types."
   ],
   "metadata": {}
  },
  {
   "cell_type": "markdown",
   "source": [
    "##### Exploring Birth year counts"
   ],
   "metadata": {}
  },
  {
   "cell_type": "code",
   "execution_count": 9,
   "source": [
    "pd.concat(\n",
    "    [bikes_df['birth year'].value_counts(normalize=False),\n",
    "     bikes_df['birth year'].value_counts(normalize=True)],\n",
    "    axis=1,\n",
    "    keys=('counts','percentage')\n",
    ").sort_index(ascending=False)"
   ],
   "outputs": [
    {
     "output_type": "execute_result",
     "data": {
      "text/html": [
       "<div>\n",
       "<style scoped>\n",
       "    .dataframe tbody tr th:only-of-type {\n",
       "        vertical-align: middle;\n",
       "    }\n",
       "\n",
       "    .dataframe tbody tr th {\n",
       "        vertical-align: top;\n",
       "    }\n",
       "\n",
       "    .dataframe thead th {\n",
       "        text-align: right;\n",
       "    }\n",
       "</style>\n",
       "<table border=\"1\" class=\"dataframe\">\n",
       "  <thead>\n",
       "    <tr style=\"text-align: right;\">\n",
       "      <th></th>\n",
       "      <th>counts</th>\n",
       "      <th>percentage</th>\n",
       "    </tr>\n",
       "  </thead>\n",
       "  <tbody>\n",
       "    <tr>\n",
       "      <th>2000</th>\n",
       "      <td>23</td>\n",
       "      <td>0.000043</td>\n",
       "    </tr>\n",
       "    <tr>\n",
       "      <th>1999</th>\n",
       "      <td>512</td>\n",
       "      <td>0.000964</td>\n",
       "    </tr>\n",
       "    <tr>\n",
       "      <th>1998</th>\n",
       "      <td>1363</td>\n",
       "      <td>0.002567</td>\n",
       "    </tr>\n",
       "    <tr>\n",
       "      <th>1997</th>\n",
       "      <td>1229</td>\n",
       "      <td>0.002314</td>\n",
       "    </tr>\n",
       "    <tr>\n",
       "      <th>1996</th>\n",
       "      <td>2971</td>\n",
       "      <td>0.005595</td>\n",
       "    </tr>\n",
       "    <tr>\n",
       "      <th>...</th>\n",
       "      <td>...</td>\n",
       "      <td>...</td>\n",
       "    </tr>\n",
       "    <tr>\n",
       "      <th>1907</th>\n",
       "      <td>4</td>\n",
       "      <td>0.000008</td>\n",
       "    </tr>\n",
       "    <tr>\n",
       "      <th>1901</th>\n",
       "      <td>2</td>\n",
       "      <td>0.000004</td>\n",
       "    </tr>\n",
       "    <tr>\n",
       "      <th>1900</th>\n",
       "      <td>101</td>\n",
       "      <td>0.00019</td>\n",
       "    </tr>\n",
       "    <tr>\n",
       "      <th>1899</th>\n",
       "      <td>38</td>\n",
       "      <td>0.000072</td>\n",
       "    </tr>\n",
       "    <tr>\n",
       "      <th>1885</th>\n",
       "      <td>94</td>\n",
       "      <td>0.000177</td>\n",
       "    </tr>\n",
       "  </tbody>\n",
       "</table>\n",
       "<p>79 rows × 2 columns</p>\n",
       "</div>"
      ],
      "text/plain": [
       "      counts  percentage\n",
       "2000      23    0.000043\n",
       "1999     512    0.000964\n",
       "1998    1363    0.002567\n",
       "1997    1229    0.002314\n",
       "1996    2971    0.005595\n",
       "...      ...         ...\n",
       "1907       4    0.000008\n",
       "1901       2    0.000004\n",
       "1900     101     0.00019\n",
       "1899      38    0.000072\n",
       "1885      94    0.000177\n",
       "\n",
       "[79 rows x 2 columns]"
      ]
     },
     "metadata": {},
     "execution_count": 9
    }
   ],
   "metadata": {}
  },
  {
   "cell_type": "markdown",
   "source": [
    "We can see that there are 94 people of age 131 and others of age above 100.\n",
    "This is probably due to erroneous data."
   ],
   "metadata": {}
  },
  {
   "cell_type": "markdown",
   "source": [
    "##### Trip duration"
   ],
   "metadata": {}
  },
  {
   "cell_type": "code",
   "execution_count": 10,
   "source": [
    "print(\"Trips above 500 hours: \", (bikes_df['tripduration_hours'] > 500).sum())\n",
    "print(\"Trips above 72 hours: \", (bikes_df['tripduration_hours'] > 72).sum())\n",
    "print(\"----------------------------\")\n",
    "print(\"99th emperical quantile is {q:.2f}\".format(q=bikes_df['tripduration_minutes'].quantile(.99)))"
   ],
   "outputs": [
    {
     "output_type": "stream",
     "name": "stdout",
     "text": [
      "Trips above 500 hours:  2\n",
      "Trips above 72 hours:  50\n",
      "----------------------------\n",
      "99th emperical quantile is 51.79\n"
     ]
    }
   ],
   "metadata": {}
  },
  {
   "cell_type": "markdown",
   "source": [
    "Lets also do another cross tabulation to see whether longer rides are not correlated with the user types in some manner."
   ],
   "metadata": {}
  },
  {
   "cell_type": "code",
   "execution_count": 11,
   "source": [
    "pd.crosstab(\n",
    "    bikes_df['tripduration_hours'] > 1,\n",
    "    bikes_df['usertype'],\n",
    "    margins=True\n",
    ")"
   ],
   "outputs": [
    {
     "output_type": "execute_result",
     "data": {
      "text/html": [
       "<div>\n",
       "<style scoped>\n",
       "    .dataframe tbody tr th:only-of-type {\n",
       "        vertical-align: middle;\n",
       "    }\n",
       "\n",
       "    .dataframe tbody tr th {\n",
       "        vertical-align: top;\n",
       "    }\n",
       "\n",
       "    .dataframe thead th {\n",
       "        text-align: right;\n",
       "    }\n",
       "</style>\n",
       "<table border=\"1\" class=\"dataframe\">\n",
       "  <thead>\n",
       "    <tr style=\"text-align: right;\">\n",
       "      <th>usertype</th>\n",
       "      <th>Customer</th>\n",
       "      <th>Subscriber</th>\n",
       "      <th>All</th>\n",
       "    </tr>\n",
       "    <tr>\n",
       "      <th>tripduration_hours</th>\n",
       "      <th></th>\n",
       "      <th></th>\n",
       "      <th></th>\n",
       "    </tr>\n",
       "  </thead>\n",
       "  <tbody>\n",
       "    <tr>\n",
       "      <th>False</th>\n",
       "      <td>27316</td>\n",
       "      <td>529025</td>\n",
       "      <td>556341</td>\n",
       "    </tr>\n",
       "    <tr>\n",
       "      <th>True</th>\n",
       "      <td>2509</td>\n",
       "      <td>2024</td>\n",
       "      <td>4533</td>\n",
       "    </tr>\n",
       "    <tr>\n",
       "      <th>All</th>\n",
       "      <td>29825</td>\n",
       "      <td>531049</td>\n",
       "      <td>560874</td>\n",
       "    </tr>\n",
       "  </tbody>\n",
       "</table>\n",
       "</div>"
      ],
      "text/plain": [
       "usertype            Customer  Subscriber     All\n",
       "tripduration_hours                              \n",
       "False                  27316      529025  556341\n",
       "True                    2509        2024    4533\n",
       "All                    29825      531049  560874"
      ]
     },
     "metadata": {},
     "execution_count": 11
    }
   ],
   "metadata": {}
  },
  {
   "cell_type": "markdown",
   "source": [
    "There are some trips longer than 500 hours and 50 above 72 hours, while the 99th percentile is below an hour.\n",
    "\n",
    "Aproximately 8% of the customers have rided more than an hour, while the subscribed users biking for more than an hour are only 0.3% (less than percent). <br/>\n",
    "One assumption for that might be that some riders, especially customers, are forgetting to dock their bike after usage. We should keep in mind that fact, since those observations would greatly affect the mean of the distribution of trip durations.\n",
    "\n",
    "### Dropping erroneous data"
   ],
   "metadata": {}
  },
  {
   "cell_type": "code",
   "execution_count": 12,
   "source": [
    "# dropping with age above 90\n",
    "MAX_AGE = 90\n",
    "\n",
    "drop_mask = bikes_df['age'] > MAX_AGE\n",
    "print(\"We are going to drop {p:.2f}% of our data\".format(p=drop_mask.mean() * 100))\n",
    "\n",
    "bikes_df = bikes_df[(~drop_mask | bikes_df['age'].isna())]\n"
   ],
   "outputs": [
    {
     "output_type": "stream",
     "name": "stdout",
     "text": [
      "We are going to drop 0.05% of our data\n"
     ]
    }
   ],
   "metadata": {}
  },
  {
   "cell_type": "markdown",
   "source": [
    "### **Joining our data with the weather data**"
   ],
   "metadata": {}
  },
  {
   "cell_type": "code",
   "execution_count": 13,
   "source": [
    "weather_df = pd.read_csv(WEATHER_FILENAME)\n",
    "weather_df.head(5)"
   ],
   "outputs": [
    {
     "output_type": "execute_result",
     "data": {
      "text/html": [
       "<div>\n",
       "<style scoped>\n",
       "    .dataframe tbody tr th:only-of-type {\n",
       "        vertical-align: middle;\n",
       "    }\n",
       "\n",
       "    .dataframe tbody tr th {\n",
       "        vertical-align: top;\n",
       "    }\n",
       "\n",
       "    .dataframe thead th {\n",
       "        text-align: right;\n",
       "    }\n",
       "</style>\n",
       "<table border=\"1\" class=\"dataframe\">\n",
       "  <thead>\n",
       "    <tr style=\"text-align: right;\">\n",
       "      <th></th>\n",
       "      <th>date</th>\n",
       "      <th>maximum temperature</th>\n",
       "      <th>minimum temperature</th>\n",
       "      <th>average temperature</th>\n",
       "      <th>precipitation</th>\n",
       "      <th>snow fall</th>\n",
       "      <th>snow depth</th>\n",
       "    </tr>\n",
       "  </thead>\n",
       "  <tbody>\n",
       "    <tr>\n",
       "      <th>0</th>\n",
       "      <td>1-1-2016</td>\n",
       "      <td>42</td>\n",
       "      <td>34</td>\n",
       "      <td>38.0</td>\n",
       "      <td>0.00</td>\n",
       "      <td>0.0</td>\n",
       "      <td>0</td>\n",
       "    </tr>\n",
       "    <tr>\n",
       "      <th>1</th>\n",
       "      <td>2-1-2016</td>\n",
       "      <td>40</td>\n",
       "      <td>32</td>\n",
       "      <td>36.0</td>\n",
       "      <td>0.00</td>\n",
       "      <td>0.0</td>\n",
       "      <td>0</td>\n",
       "    </tr>\n",
       "    <tr>\n",
       "      <th>2</th>\n",
       "      <td>3-1-2016</td>\n",
       "      <td>45</td>\n",
       "      <td>35</td>\n",
       "      <td>40.0</td>\n",
       "      <td>0.00</td>\n",
       "      <td>0.0</td>\n",
       "      <td>0</td>\n",
       "    </tr>\n",
       "    <tr>\n",
       "      <th>3</th>\n",
       "      <td>4-1-2016</td>\n",
       "      <td>36</td>\n",
       "      <td>14</td>\n",
       "      <td>25.0</td>\n",
       "      <td>0.00</td>\n",
       "      <td>0.0</td>\n",
       "      <td>0</td>\n",
       "    </tr>\n",
       "    <tr>\n",
       "      <th>4</th>\n",
       "      <td>5-1-2016</td>\n",
       "      <td>29</td>\n",
       "      <td>11</td>\n",
       "      <td>20.0</td>\n",
       "      <td>0.00</td>\n",
       "      <td>0.0</td>\n",
       "      <td>0</td>\n",
       "    </tr>\n",
       "  </tbody>\n",
       "</table>\n",
       "</div>"
      ],
      "text/plain": [
       "       date  maximum temperature  minimum temperature  average temperature  \\\n",
       "0  1-1-2016                   42                   34                 38.0   \n",
       "1  2-1-2016                   40                   32                 36.0   \n",
       "2  3-1-2016                   45                   35                 40.0   \n",
       "3  4-1-2016                   36                   14                 25.0   \n",
       "4  5-1-2016                   29                   11                 20.0   \n",
       "\n",
       "  precipitation snow fall snow depth  \n",
       "0          0.00       0.0          0  \n",
       "1          0.00       0.0          0  \n",
       "2          0.00       0.0          0  \n",
       "3          0.00       0.0          0  \n",
       "4          0.00       0.0          0  "
      ]
     },
     "metadata": {},
     "execution_count": 13
    }
   ],
   "metadata": {}
  },
  {
   "cell_type": "markdown",
   "source": [
    "Next, we should do some date reformatting and additional column additions to the weather dataset before joining it with the bikes date we already have."
   ],
   "metadata": {}
  },
  {
   "cell_type": "code",
   "execution_count": 14,
   "source": [
    "# format the weather date to a correct format and join with our dataset\n",
    "# TODO: move to a the process module\n",
    "\n",
    "weather_df['date'] = weather_df['date'].apply(pd.to_datetime, format=\"%d-%m-%Y\")\n",
    "\n",
    "# add additional columns\n",
    "weather_df['month'] = weather_df['date'].dt.month\n",
    "weather_df['year'] = weather_df['date'].dt.year\n",
    "weather_df['day'] = weather_df['date'].dt.day\n",
    "\n",
    "# drop weather data which is not in february\n",
    "feb_mask = (weather_df['month'] == int(RIDES_MONTH)) & (weather_df['year'] == int(RIDES_YEAR))\n",
    "weather_df = weather_df[feb_mask]\n",
    "weather_df.head()"
   ],
   "outputs": [
    {
     "output_type": "execute_result",
     "data": {
      "text/html": [
       "<div>\n",
       "<style scoped>\n",
       "    .dataframe tbody tr th:only-of-type {\n",
       "        vertical-align: middle;\n",
       "    }\n",
       "\n",
       "    .dataframe tbody tr th {\n",
       "        vertical-align: top;\n",
       "    }\n",
       "\n",
       "    .dataframe thead th {\n",
       "        text-align: right;\n",
       "    }\n",
       "</style>\n",
       "<table border=\"1\" class=\"dataframe\">\n",
       "  <thead>\n",
       "    <tr style=\"text-align: right;\">\n",
       "      <th></th>\n",
       "      <th>date</th>\n",
       "      <th>maximum temperature</th>\n",
       "      <th>minimum temperature</th>\n",
       "      <th>average temperature</th>\n",
       "      <th>precipitation</th>\n",
       "      <th>snow fall</th>\n",
       "      <th>snow depth</th>\n",
       "      <th>month</th>\n",
       "      <th>year</th>\n",
       "      <th>day</th>\n",
       "    </tr>\n",
       "  </thead>\n",
       "  <tbody>\n",
       "    <tr>\n",
       "      <th>31</th>\n",
       "      <td>2016-02-01</td>\n",
       "      <td>59</td>\n",
       "      <td>44</td>\n",
       "      <td>51.5</td>\n",
       "      <td>0.01</td>\n",
       "      <td>0.0</td>\n",
       "      <td>2</td>\n",
       "      <td>2</td>\n",
       "      <td>2016</td>\n",
       "      <td>1</td>\n",
       "    </tr>\n",
       "    <tr>\n",
       "      <th>32</th>\n",
       "      <td>2016-02-02</td>\n",
       "      <td>50</td>\n",
       "      <td>38</td>\n",
       "      <td>44.0</td>\n",
       "      <td>0.00</td>\n",
       "      <td>0.0</td>\n",
       "      <td>T</td>\n",
       "      <td>2</td>\n",
       "      <td>2016</td>\n",
       "      <td>2</td>\n",
       "    </tr>\n",
       "    <tr>\n",
       "      <th>33</th>\n",
       "      <td>2016-02-03</td>\n",
       "      <td>59</td>\n",
       "      <td>42</td>\n",
       "      <td>50.5</td>\n",
       "      <td>0.73</td>\n",
       "      <td>0.0</td>\n",
       "      <td>0</td>\n",
       "      <td>2</td>\n",
       "      <td>2016</td>\n",
       "      <td>3</td>\n",
       "    </tr>\n",
       "    <tr>\n",
       "      <th>34</th>\n",
       "      <td>2016-02-04</td>\n",
       "      <td>59</td>\n",
       "      <td>44</td>\n",
       "      <td>51.5</td>\n",
       "      <td>T</td>\n",
       "      <td>0.0</td>\n",
       "      <td>0</td>\n",
       "      <td>2</td>\n",
       "      <td>2016</td>\n",
       "      <td>4</td>\n",
       "    </tr>\n",
       "    <tr>\n",
       "      <th>35</th>\n",
       "      <td>2016-02-05</td>\n",
       "      <td>44</td>\n",
       "      <td>31</td>\n",
       "      <td>37.5</td>\n",
       "      <td>0.53</td>\n",
       "      <td>2.5</td>\n",
       "      <td>1</td>\n",
       "      <td>2</td>\n",
       "      <td>2016</td>\n",
       "      <td>5</td>\n",
       "    </tr>\n",
       "  </tbody>\n",
       "</table>\n",
       "</div>"
      ],
      "text/plain": [
       "         date  maximum temperature  minimum temperature  average temperature  \\\n",
       "31 2016-02-01                   59                   44                 51.5   \n",
       "32 2016-02-02                   50                   38                 44.0   \n",
       "33 2016-02-03                   59                   42                 50.5   \n",
       "34 2016-02-04                   59                   44                 51.5   \n",
       "35 2016-02-05                   44                   31                 37.5   \n",
       "\n",
       "   precipitation snow fall snow depth  month  year  day  \n",
       "31          0.01       0.0          2      2  2016    1  \n",
       "32          0.00       0.0          T      2  2016    2  \n",
       "33          0.73       0.0          0      2  2016    3  \n",
       "34             T       0.0          0      2  2016    4  \n",
       "35          0.53       2.5          1      2  2016    5  "
      ]
     },
     "metadata": {},
     "execution_count": 14
    }
   ],
   "metadata": {}
  },
  {
   "cell_type": "code",
   "execution_count": 15,
   "source": [
    "# writing our processed dataframes to csvs\n",
    "bikes_df.to_csv(\"../data/processed/bikes_2016_02.csv\")\n",
    "weather_df.to_csv(\"../data/processed/weather_2016_02.csv\")\n",
    "\n",
    "# weatherly_bikes_df = pd.merge(left=bikes_df, right=weather_df, left_on='day', right_on='day')\n",
    "# weatherly_bikes_df['average temperature'].describe()"
   ],
   "outputs": [],
   "metadata": {}
  },
  {
   "cell_type": "markdown",
   "source": [
    "Finally, we write our joined dataset to a new processed csv so that we use it in an exploratory data analysis."
   ],
   "metadata": {}
  }
 ],
 "metadata": {
  "orig_nbformat": 4,
  "language_info": {
   "name": "python",
   "version": "3.9.2",
   "mimetype": "text/x-python",
   "codemirror_mode": {
    "name": "ipython",
    "version": 3
   },
   "pygments_lexer": "ipython3",
   "nbconvert_exporter": "python",
   "file_extension": ".py"
  },
  "kernelspec": {
   "name": "python3",
   "display_name": "Python 3.9.2 64-bit ('3.9.2': pyenv)"
  },
  "interpreter": {
   "hash": "1f638f2ca7539ec28c41b7df36d6ad28915baab15e9a88f50e3323c925045fd2"
  }
 },
 "nbformat": 4,
 "nbformat_minor": 2
}